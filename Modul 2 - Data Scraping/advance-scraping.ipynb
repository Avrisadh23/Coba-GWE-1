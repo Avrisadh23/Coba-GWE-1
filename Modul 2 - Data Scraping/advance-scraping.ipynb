{
 "cells": [
  {
   "cell_type": "markdown",
   "metadata": {},
   "source": [
    "# Advance Scrapping Method\n",
    "> Mungkin beberapa hal ini bakal kalian butuhin, mungkin jarang dipake juga"
   ]
  },
  {
   "cell_type": "code",
   "execution_count": 1,
   "metadata": {},
   "outputs": [],
   "source": [
    "import requests\n",
    "from bs4 import BeautifulSoup\n",
    "import csv\n"
   ]
  },
  {
   "cell_type": "code",
   "execution_count": 52,
   "metadata": {},
   "outputs": [],
   "source": [
    "# link html web yang mau di scrap\n",
    "url = 'https://montasefilm.com/category/review/review-film-indonesia/page/2'\n",
    "headers = {\n",
    "  'User-Agent':'Mozilla/5.0 (Windows NT 10.0; Win64; x64) AppleWebKit/537.36 (KHTML, like Gecko) Chrome/122.0.0.0 Safari/537.36'\n",
    "}"
   ]
  },
  {
   "cell_type": "code",
   "execution_count": 53,
   "metadata": {},
   "outputs": [
    {
     "name": "stdout",
     "output_type": "stream",
     "text": [
      "<Response [200]>\n"
     ]
    }
   ],
   "source": [
    "req = requests.get(url, headers=headers)\n",
    "print(req)"
   ]
  },
  {
   "cell_type": "markdown",
   "metadata": {},
   "source": [
    "## Print HTML in Python"
   ]
  },
  {
   "cell_type": "code",
   "execution_count": 70,
   "metadata": {},
   "outputs": [],
   "source": [
    "%%capture\n",
    "soup = BeautifulSoup(req.text, 'html.parser')\n",
    "print(soup.prettify())"
   ]
  },
  {
   "cell_type": "code",
   "execution_count": 57,
   "metadata": {},
   "outputs": [],
   "source": [
    "book = soup.find_all('div', 'td_module_17 td_module_wrap td-animation-stack')"
   ]
  },
  {
   "cell_type": "code",
   "execution_count": 56,
   "metadata": {},
   "outputs": [
    {
     "name": "stdout",
     "output_type": "stream",
     "text": [
      "Indonesia dari Timur\n",
      "Pasutri Gaje\n",
      "Ali Topan\n",
      "Kereta Berdarah\n",
      "Eksil\n",
      "Agak Laen\n"
     ]
    }
   ],
   "source": [
    "for i in book:\n",
    "  title = i.find('h3', 'entry-title td-module-title').text\n",
    "  print(title)"
   ]
  },
  {
   "cell_type": "markdown",
   "metadata": {},
   "source": [
    "## Image Scraping"
   ]
  },
  {
   "cell_type": "code",
   "execution_count": 59,
   "metadata": {},
   "outputs": [
    {
     "name": "stdout",
     "output_type": "stream",
     "text": [
      "https://montasefilm.com/wp-content/uploads/2024/02/httpswww.imdb_.comtitlett31108426mediaviewerrm1795375361ref_tt_ov_i.jpg\n",
      "https://montasefilm.com/wp-content/uploads/2024/02/httpswww.imdb_.comtitlett28131321mediaviewerrm4008723201ref_ttmi_mi_all_sf_8-696x385.jpg\n",
      "https://montasefilm.com/wp-content/uploads/2024/02/httpswww.imdb_.comtitlett26923485mediaviewerrm816008705ref_ttmi_mi_all_sf_21-696x385.jpg\n",
      "https://montasefilm.com/wp-content/uploads/2024/02/httpswww.imdb_.comtitlett29545351mediaviewerrm2392673537ref_tt_md_3-696x385.jpg\n",
      "https://montasefilm.com/wp-content/uploads/2024/02/httpswww.imdb_.comtitlett30888947mediaviewerrm2747157505ref_tt_ov_i-696x385.jpg\n",
      "https://montasefilm.com/wp-content/uploads/2024/02/httpswww.imdb_.comtitlett28856462mediaviewerrm2627879425ref_tt_mi_sm-696x385.jpg\n"
     ]
    }
   ],
   "source": [
    "for i in book:\n",
    "  image = i.find('div', 'td-module-thumb').find('img')['data-img-url']\n",
    "  print(image)"
   ]
  },
  {
   "cell_type": "markdown",
   "metadata": {},
   "source": [
    "## Star Review Scraping"
   ]
  },
  {
   "cell_type": "code",
   "execution_count": 68,
   "metadata": {},
   "outputs": [],
   "source": [
    "# buat perhitungan kalkulasi star\n",
    "star_counter = {\n",
    "    \"td-icon-star\": 1,\n",
    "    \"td-icon-star-half\": 0.5,\n",
    "    \"td-icon-star-empty\": 0\n",
    "}"
   ]
  },
  {
   "cell_type": "code",
   "execution_count": 69,
   "metadata": {},
   "outputs": [
    {
     "name": "stdout",
     "output_type": "stream",
     "text": [
      "3.5\n",
      "3.5\n",
      "3.5\n",
      "3\n",
      "4.5\n",
      "4\n"
     ]
    }
   ],
   "source": [
    "for film in book:\n",
    "    # find all semua star\n",
    "    star_elements = film.find_all('i', class_=lambda x: x and x.startswith('td-icon-star'))\n",
    "    \n",
    "    total_rating = 0\n",
    "    \n",
    "    # masing-masing star\n",
    "    for element in star_elements:\n",
    "        star_class = element['class'][0]\n",
    "        star_rating = star_counter.get(star_class, 0)\n",
    "        total_rating += star_rating \n",
    "    print(total_rating)"
   ]
  },
  {
   "cell_type": "markdown",
   "metadata": {},
   "source": [
    "## Read scraping result"
   ]
  },
  {
   "cell_type": "code",
   "execution_count": 73,
   "metadata": {},
   "outputs": [],
   "source": [
    "import pandas as pd"
   ]
  },
  {
   "cell_type": "code",
   "execution_count": 74,
   "metadata": {},
   "outputs": [
    {
     "data": {
      "text/html": [
       "<div>\n",
       "<style scoped>\n",
       "    .dataframe tbody tr th:only-of-type {\n",
       "        vertical-align: middle;\n",
       "    }\n",
       "\n",
       "    .dataframe tbody tr th {\n",
       "        vertical-align: top;\n",
       "    }\n",
       "\n",
       "    .dataframe thead th {\n",
       "        text-align: right;\n",
       "    }\n",
       "</style>\n",
       "<table border=\"1\" class=\"dataframe\">\n",
       "  <thead>\n",
       "    <tr style=\"text-align: right;\">\n",
       "      <th></th>\n",
       "      <th>user</th>\n",
       "      <th>comment date</th>\n",
       "      <th>review content</th>\n",
       "    </tr>\n",
       "  </thead>\n",
       "  <tbody>\n",
       "    <tr>\n",
       "      <th>0</th>\n",
       "      <td>cassiasimone8</td>\n",
       "      <td>12 Mar 2024</td>\n",
       "      <td>CINEMA!!!!!!!!!!!!!!</td>\n",
       "    </tr>\n",
       "    <tr>\n",
       "      <th>1</th>\n",
       "      <td>Sahil</td>\n",
       "      <td>12 Mar 2024</td>\n",
       "      <td>Dune: Part Two is techinal film-making at its ...</td>\n",
       "    </tr>\n",
       "    <tr>\n",
       "      <th>2</th>\n",
       "      <td>Mace</td>\n",
       "      <td>13 Mar 2024</td>\n",
       "      <td>I’m obsessed. I love this one more than first....</td>\n",
       "    </tr>\n",
       "    <tr>\n",
       "      <th>3</th>\n",
       "      <td>Micha Jetter</td>\n",
       "      <td>13 Mar 2024</td>\n",
       "      <td>Ton im Kino war eindeutig zu laut, aber als ma...</td>\n",
       "    </tr>\n",
       "    <tr>\n",
       "      <th>4</th>\n",
       "      <td>Emm</td>\n",
       "      <td>13 Mar 2024</td>\n",
       "      <td>Vista 09/03</td>\n",
       "    </tr>\n",
       "  </tbody>\n",
       "</table>\n",
       "</div>"
      ],
      "text/plain": [
       "            user comment date  \\\n",
       "0  cassiasimone8  12 Mar 2024   \n",
       "1          Sahil  12 Mar 2024   \n",
       "2           Mace  13 Mar 2024   \n",
       "3   Micha Jetter  13 Mar 2024   \n",
       "4            Emm  13 Mar 2024   \n",
       "\n",
       "                                      review content  \n",
       "0                               CINEMA!!!!!!!!!!!!!!  \n",
       "1  Dune: Part Two is techinal film-making at its ...  \n",
       "2  I’m obsessed. I love this one more than first....  \n",
       "3  Ton im Kino war eindeutig zu laut, aber als ma...  \n",
       "4                                        Vista 09/03  "
      ]
     },
     "execution_count": 74,
     "metadata": {},
     "output_type": "execute_result"
    }
   ],
   "source": [
    "df = pd.read_csv('scrap-result\\scrap-letterboxd-dunetwo-2024-03-13.csv')\n",
    "df.head()"
   ]
  },
  {
   "cell_type": "code",
   "execution_count": null,
   "metadata": {},
   "outputs": [],
   "source": []
  }
 ],
 "metadata": {
  "kernelspec": {
   "display_name": "Python 3",
   "language": "python",
   "name": "python3"
  },
  "language_info": {
   "codemirror_mode": {
    "name": "ipython",
    "version": 3
   },
   "file_extension": ".py",
   "mimetype": "text/x-python",
   "name": "python",
   "nbconvert_exporter": "python",
   "pygments_lexer": "ipython3",
   "version": "3.10.11"
  }
 },
 "nbformat": 4,
 "nbformat_minor": 2
}
