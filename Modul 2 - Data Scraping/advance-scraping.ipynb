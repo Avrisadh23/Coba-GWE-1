{
 "cells": [
  {
   "cell_type": "markdown",
   "metadata": {},
   "source": [
    "# Advance Scrapping Method\n",
    "> Mungkin beberapa hal ini bakal kalian butuhin, mungkin jarang dipake juga"
   ]
  },
  {
   "cell_type": "code",
   "execution_count": 1,
   "metadata": {},
   "outputs": [],
   "source": [
    "import requests\n",
    "from bs4 import BeautifulSoup\n",
    "import csv\n"
   ]
  },
  {
   "cell_type": "code",
   "execution_count": 52,
   "metadata": {},
   "outputs": [],
   "source": [
    "# link html web yang mau di scrap\n",
    "url = 'https://montasefilm.com/category/review/review-film-indonesia/page/2'\n",
    "headers = {\n",
    "  'User-Agent':'Mozilla/5.0 (Windows NT 10.0; Win64; x64) AppleWebKit/537.36 (KHTML, like Gecko) Chrome/122.0.0.0 Safari/537.36'\n",
    "}"
   ]
  },
  {
   "cell_type": "code",
   "execution_count": 53,
   "metadata": {},
   "outputs": [
    {
     "name": "stdout",
     "output_type": "stream",
     "text": [
      "<Response [200]>\n"
     ]
    }
   ],
   "source": [
    "req = requests.get(url, headers=headers)\n",
    "print(req)"
   ]
  },
  {
   "cell_type": "markdown",
   "metadata": {},
   "source": [
    "## Print HTML in Python"
   ]
  },
  {
   "cell_type": "code",
   "execution_count": 70,
   "metadata": {},
   "outputs": [],
   "source": [
    "%%capture\n",
    "soup = BeautifulSoup(req.text, 'html.parser')\n",
    "print(soup.prettify())"
   ]
  },
  {
   "cell_type": "code",
   "execution_count": 57,
   "metadata": {},
   "outputs": [],
   "source": [
    "book = soup.find_all('div', 'td_module_17 td_module_wrap td-animation-stack')"
   ]
  },
  {
   "cell_type": "code",
   "execution_count": 56,
   "metadata": {},
   "outputs": [
    {
     "name": "stdout",
     "output_type": "stream",
     "text": [
      "Indonesia dari Timur\n",
      "Pasutri Gaje\n",
      "Ali Topan\n",
      "Kereta Berdarah\n",
      "Eksil\n",
      "Agak Laen\n"
     ]
    }
   ],
   "source": [
    "for i in book:\n",
    "  title = i.find('h3', 'entry-title td-module-title').text\n",
    "  print(title)"
   ]
  },
  {
   "cell_type": "markdown",
   "metadata": {},
   "source": [
    "## Image Scraping"
   ]
  },
  {
   "cell_type": "code",
   "execution_count": 59,
   "metadata": {},
   "outputs": [
    {
     "name": "stdout",
     "output_type": "stream",
     "text": [
      "https://montasefilm.com/wp-content/uploads/2024/02/httpswww.imdb_.comtitlett31108426mediaviewerrm1795375361ref_tt_ov_i.jpg\n",
      "https://montasefilm.com/wp-content/uploads/2024/02/httpswww.imdb_.comtitlett28131321mediaviewerrm4008723201ref_ttmi_mi_all_sf_8-696x385.jpg\n",
      "https://montasefilm.com/wp-content/uploads/2024/02/httpswww.imdb_.comtitlett26923485mediaviewerrm816008705ref_ttmi_mi_all_sf_21-696x385.jpg\n",
      "https://montasefilm.com/wp-content/uploads/2024/02/httpswww.imdb_.comtitlett29545351mediaviewerrm2392673537ref_tt_md_3-696x385.jpg\n",
      "https://montasefilm.com/wp-content/uploads/2024/02/httpswww.imdb_.comtitlett30888947mediaviewerrm2747157505ref_tt_ov_i-696x385.jpg\n",
      "https://montasefilm.com/wp-content/uploads/2024/02/httpswww.imdb_.comtitlett28856462mediaviewerrm2627879425ref_tt_mi_sm-696x385.jpg\n"
     ]
    }
   ],
   "source": [
    "for i in book:\n",
    "  image = i.find('div', 'td-module-thumb').find('img')['data-img-url']\n",
    "  print(image)"
   ]
  },
  {
   "cell_type": "markdown",
   "metadata": {},
   "source": [
    "## Star Review Scraping"
   ]
  },
  {
   "cell_type": "code",
   "execution_count": 68,
   "metadata": {},
   "outputs": [],
   "source": [
    "# buat perhitungan kalkulasi star\n",
    "star_counter = {\n",
    "    \"td-icon-star\": 1,\n",
    "    \"td-icon-star-half\": 0.5,\n",
    "    \"td-icon-star-empty\": 0\n",
    "}"
   ]
  },
  {
   "cell_type": "code",
   "execution_count": 69,
   "metadata": {},
   "outputs": [
    {
     "name": "stdout",
     "output_type": "stream",
     "text": [
      "3.5\n",
      "3.5\n",
      "3.5\n",
      "3\n",
      "4.5\n",
      "4\n"
     ]
    }
   ],
   "source": [
    "for film in book:\n",
    "    # find all semua star\n",
    "    star_elements = film.find_all('i', class_=lambda x: x and x.startswith('td-icon-star'))\n",
    "    \n",
    "    total_rating = 0\n",
    "    \n",
    "    # masing-masing star\n",
    "    for element in star_elements:\n",
    "        star_class = element['class'][0]\n",
    "        star_rating = star_counter.get(star_class, 0)\n",
    "        total_rating += star_rating \n",
    "    print(total_rating)"
   ]
  }
 ],
 "metadata": {
  "kernelspec": {
   "display_name": "Python 3",
   "language": "python",
   "name": "python3"
  },
  "language_info": {
   "codemirror_mode": {
    "name": "ipython",
    "version": 3
   },
   "file_extension": ".py",
   "mimetype": "text/x-python",
   "name": "python",
   "nbconvert_exporter": "python",
   "pygments_lexer": "ipython3",
   "version": "3.10.11"
  }
 },
 "nbformat": 4,
 "nbformat_minor": 2
}
